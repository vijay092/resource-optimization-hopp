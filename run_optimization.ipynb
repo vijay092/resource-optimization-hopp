{
 "cells": [
  {
   "cell_type": "code",
   "execution_count": 1,
   "metadata": {},
   "outputs": [],
   "source": [
    "%load_ext autoreload\n",
    "%autoreload 2\n",
    "\n",
    "import os\n",
    "import sys\n",
    "import pandas as pd\n",
    "import numpy as np\n",
    "import warnings\n",
    "from optimize_utils import optimize\n",
    "\n",
    "warnings.filterwarnings(\"ignore\")\n"
   ]
  },
  {
   "cell_type": "code",
   "execution_count": 171,
   "metadata": {},
   "outputs": [],
   "source": [
    "model, results = optimize(\n",
    "    max_wind = 1080,\n",
    "    max_solar = 1080,\n",
    "    max_battery = 520,\n",
    "    max_electrolyzer = 2*1080 + 520,\n",
    "    battery_storage_hours = 2,\n",
    "    stack_life_hrs = 80000 ,\n",
    "    cost_year = 2025,\n",
    "    pem_cost_case=\"Mod 18\",\n",
    ")"
   ]
  },
  {
   "cell_type": "code",
   "execution_count": 178,
   "metadata": {},
   "outputs": [],
   "source": [
    "bol_eff_curve = pd.read_pickle(\"pem_1mw_bol_eff_pickle\")\n"
   ]
  },
  {
   "cell_type": "code",
   "execution_count": 179,
   "metadata": {},
   "outputs": [
    {
     "data": {
      "text/html": [
       "<div>\n",
       "<style scoped>\n",
       "    .dataframe tbody tr th:only-of-type {\n",
       "        vertical-align: middle;\n",
       "    }\n",
       "\n",
       "    .dataframe tbody tr th {\n",
       "        vertical-align: top;\n",
       "    }\n",
       "\n",
       "    .dataframe thead th {\n",
       "        text-align: right;\n",
       "    }\n",
       "</style>\n",
       "<table border=\"1\" class=\"dataframe\">\n",
       "  <thead>\n",
       "    <tr style=\"text-align: right;\">\n",
       "      <th></th>\n",
       "      <th>Power Sent [kWh]</th>\n",
       "      <th>Current</th>\n",
       "      <th>Cell Voltage</th>\n",
       "      <th>H2 Produced</th>\n",
       "      <th>Efficiency [kWh/kg]</th>\n",
       "      <th>Power Consumed [kWh]</th>\n",
       "      <th>IV Curve BOL Error [kWh]</th>\n",
       "    </tr>\n",
       "  </thead>\n",
       "  <tbody>\n",
       "    <tr>\n",
       "      <th>0</th>\n",
       "      <td>100.0</td>\n",
       "      <td>443.103987</td>\n",
       "      <td>1.735679</td>\n",
       "      <td>2.147591</td>\n",
       "      <td>46.563803</td>\n",
       "      <td>99.981226</td>\n",
       "      <td>0.018774</td>\n",
       "    </tr>\n",
       "    <tr>\n",
       "      <th>1</th>\n",
       "      <td>200.0</td>\n",
       "      <td>853.010126</td>\n",
       "      <td>1.803674</td>\n",
       "      <td>4.148433</td>\n",
       "      <td>48.210971</td>\n",
       "      <td>200.011734</td>\n",
       "      <td>-0.011734</td>\n",
       "    </tr>\n",
       "    <tr>\n",
       "      <th>2</th>\n",
       "      <td>300.0</td>\n",
       "      <td>1247.298595</td>\n",
       "      <td>1.850057</td>\n",
       "      <td>6.070059</td>\n",
       "      <td>49.422915</td>\n",
       "      <td>299.984581</td>\n",
       "      <td>0.015419</td>\n",
       "    </tr>\n",
       "    <tr>\n",
       "      <th>3</th>\n",
       "      <td>400.0</td>\n",
       "      <td>1630.201240</td>\n",
       "      <td>1.887398</td>\n",
       "      <td>7.935427</td>\n",
       "      <td>50.406866</td>\n",
       "      <td>399.988942</td>\n",
       "      <td>0.011058</td>\n",
       "    </tr>\n",
       "    <tr>\n",
       "      <th>4</th>\n",
       "      <td>500.0</td>\n",
       "      <td>2003.605632</td>\n",
       "      <td>1.919640</td>\n",
       "      <td>9.754212</td>\n",
       "      <td>51.259905</td>\n",
       "      <td>500.006253</td>\n",
       "      <td>-0.006253</td>\n",
       "    </tr>\n",
       "    <tr>\n",
       "      <th>5</th>\n",
       "      <td>600.0</td>\n",
       "      <td>2368.677344</td>\n",
       "      <td>1.948557</td>\n",
       "      <td>11.532255</td>\n",
       "      <td>52.027987</td>\n",
       "      <td>600.015369</td>\n",
       "      <td>-0.015369</td>\n",
       "    </tr>\n",
       "    <tr>\n",
       "      <th>6</th>\n",
       "      <td>700.0</td>\n",
       "      <td>2726.273373</td>\n",
       "      <td>1.975105</td>\n",
       "      <td>13.273798</td>\n",
       "      <td>52.735471</td>\n",
       "      <td>700.007961</td>\n",
       "      <td>-0.007961</td>\n",
       "    </tr>\n",
       "    <tr>\n",
       "      <th>7</th>\n",
       "      <td>800.0</td>\n",
       "      <td>3077.093378</td>\n",
       "      <td>1.999865</td>\n",
       "      <td>14.982285</td>\n",
       "      <td>53.396394</td>\n",
       "      <td>799.990424</td>\n",
       "      <td>0.009576</td>\n",
       "    </tr>\n",
       "    <tr>\n",
       "      <th>8</th>\n",
       "      <td>900.0</td>\n",
       "      <td>3421.747165</td>\n",
       "      <td>2.023220</td>\n",
       "      <td>16.660706</td>\n",
       "      <td>54.019321</td>\n",
       "      <td>899.983119</td>\n",
       "      <td>0.016881</td>\n",
       "    </tr>\n",
       "    <tr>\n",
       "      <th>9</th>\n",
       "      <td>1000.0</td>\n",
       "      <td>3760.788977</td>\n",
       "      <td>2.045437</td>\n",
       "      <td>18.311770</td>\n",
       "      <td>54.609686</td>\n",
       "      <td>1000.019168</td>\n",
       "      <td>-0.019168</td>\n",
       "    </tr>\n",
       "  </tbody>\n",
       "</table>\n",
       "</div>"
      ],
      "text/plain": [
       "   Power Sent [kWh]      Current  Cell Voltage  H2 Produced   \n",
       "0             100.0   443.103987      1.735679     2.147591  \\\n",
       "1             200.0   853.010126      1.803674     4.148433   \n",
       "2             300.0  1247.298595      1.850057     6.070059   \n",
       "3             400.0  1630.201240      1.887398     7.935427   \n",
       "4             500.0  2003.605632      1.919640     9.754212   \n",
       "5             600.0  2368.677344      1.948557    11.532255   \n",
       "6             700.0  2726.273373      1.975105    13.273798   \n",
       "7             800.0  3077.093378      1.999865    14.982285   \n",
       "8             900.0  3421.747165      2.023220    16.660706   \n",
       "9            1000.0  3760.788977      2.045437    18.311770   \n",
       "\n",
       "   Efficiency [kWh/kg]  Power Consumed [kWh]  IV Curve BOL Error [kWh]  \n",
       "0            46.563803             99.981226                  0.018774  \n",
       "1            48.210971            200.011734                 -0.011734  \n",
       "2            49.422915            299.984581                  0.015419  \n",
       "3            50.406866            399.988942                  0.011058  \n",
       "4            51.259905            500.006253                 -0.006253  \n",
       "5            52.027987            600.015369                 -0.015369  \n",
       "6            52.735471            700.007961                 -0.007961  \n",
       "7            53.396394            799.990424                  0.009576  \n",
       "8            54.019321            899.983119                  0.016881  \n",
       "9            54.609686           1000.019168                 -0.019168  "
      ]
     },
     "execution_count": 179,
     "metadata": {},
     "output_type": "execute_result"
    }
   ],
   "source": [
    "bol_eff_curve"
   ]
  },
  {
   "cell_type": "code",
   "execution_count": 182,
   "metadata": {},
   "outputs": [
    {
     "data": {
      "text/plain": [
       "[<matplotlib.lines.Line2D at 0x1a83c1c10>]"
      ]
     },
     "execution_count": 182,
     "metadata": {},
     "output_type": "execute_result"
    },
    {
     "data": {
      "image/png": "[encoded data removed]",
      "text/plain": [
       "<Figure size 640x480 with 1 Axes>"
      ]
     },
     "metadata": {},
     "output_type": "display_data"
    }
   ],
   "source": [
    "import matplotlib.pyplot as plt\n",
    "\n",
    "plt.plot(bol_eff_curve[\"Power Sent [kWh]\"], bol_eff_curve[\"H2 Produced\"])"
   ]
  },
  {
   "cell_type": "code",
   "execution_count": null,
   "metadata": {},
   "outputs": [],
   "source": []
  }
 ],
 "metadata": {
  "kernelspec": {
   "display_name": "Python 3.9.16 ('elec-opt-2')",
   "language": "python",
   "name": "python3"
  },
  "language_info": {
   "codemirror_mode": {
    "name": "ipython",
    "version": 3
   },
   "file_extension": ".py",
   "mimetype": "text/x-python",
   "name": "python",
   "nbconvert_exporter": "python",
   "pygments_lexer": "ipython3",
   "version": "3.9.16"
  },
  "orig_nbformat": 4,
  "vscode": {
   "interpreter": {
    "hash": "40ce8df6697a163269f2298cc6ce3ccf5d80d2eb07ddbeddefbcf3b434aba06e"
   }
  }
 },
 "nbformat": 4,
 "nbformat_minor": 2
}
